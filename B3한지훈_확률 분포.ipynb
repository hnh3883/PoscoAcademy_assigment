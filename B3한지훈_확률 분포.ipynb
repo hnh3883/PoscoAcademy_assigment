{
 "cells": [
  {
   "cell_type": "code",
   "execution_count": 5,
   "id": "c9a19ff7",
   "metadata": {},
   "outputs": [],
   "source": [
    "from scipy import stats\n",
    "import pandas as pd\n",
    "import numpy as np\n",
    "import matplotlib.pyplot as plt\n",
    "from statsmodels.stats.proportion import proportions_ztest\n",
    "\n",
    "import warnings\n",
    "warnings.filterwarnings('ignore')"
   ]
  },
  {
   "cell_type": "markdown",
   "id": "2ee7d83a",
   "metadata": {},
   "source": [
    "### 실습 1 - t 분포"
   ]
  },
  {
   "cell_type": "code",
   "execution_count": 2,
   "id": "6b0f7d76",
   "metadata": {},
   "outputs": [
    {
     "name": "stdout",
     "output_type": "stream",
     "text": [
      "P(T<=t):0.976\n"
     ]
    }
   ],
   "source": [
    "t = 2\n",
    "df = 100  #자유도\n",
    "\n",
    "prob = stats.t.cdf(t,df)\n",
    "print('P(T<=t):{:.3f}'.format(prob))"
   ]
  },
  {
   "cell_type": "markdown",
   "id": "371dc004",
   "metadata": {},
   "source": [
    "### 실습 2 - x^2 분포"
   ]
  },
  {
   "cell_type": "code",
   "execution_count": 3,
   "id": "01bad424",
   "metadata": {},
   "outputs": [
    {
     "name": "stdout",
     "output_type": "stream",
     "text": [
      "P(X<=3):0.0656\n"
     ]
    }
   ],
   "source": [
    "chisq = 3\n",
    "df = 8\n",
    "\n",
    "prob = stats.chi2.cdf(chisq,df)\n",
    "print('P(X<={0}):{1:.4f}'.format(chisq,prob))"
   ]
  },
  {
   "cell_type": "markdown",
   "id": "88616da7",
   "metadata": {},
   "source": [
    "### 실습 3 - f 분포"
   ]
  },
  {
   "cell_type": "code",
   "execution_count": 4,
   "id": "d2064492",
   "metadata": {},
   "outputs": [
    {
     "name": "stdout",
     "output_type": "stream",
     "text": [
      "P(X<=F):0.850\n"
     ]
    }
   ],
   "source": [
    "f = 1.5\n",
    "dfnum = 10\n",
    "dfden = 100\n",
    "\n",
    "prob = stats.f.cdf(x=f, dfn = dfnum, dfd= dfden )\n",
    "print('P(X<=F):{:.3f}'.format(prob))"
   ]
  },
  {
   "cell_type": "markdown",
   "id": "55a8dcb1",
   "metadata": {},
   "source": [
    "### 실습 4 - 이항분포"
   ]
  },
  {
   "cell_type": "code",
   "execution_count": 5,
   "id": "9074144a",
   "metadata": {},
   "outputs": [
    {
     "name": "stdout",
     "output_type": "stream",
     "text": [
      "P(X=0) = 0.168\n",
      "P(X=1) = 0.360\n",
      "P(X=2) = 0.309\n",
      "P(X=3) = 0.132\n",
      "P(X=4) = 0.028\n",
      "P(X=5) = 0.002\n"
     ]
    }
   ],
   "source": [
    "n = 5 \n",
    "for i in range(n+1):\n",
    "    prob = stats.binom.pmf(k=i, n=n, p=0.3)\n",
    "    print('P(X={0}) = {1:.3f}'.format(i,prob))"
   ]
  },
  {
   "cell_type": "markdown",
   "id": "6b8e8d88",
   "metadata": {},
   "source": [
    "### 실습  5 - 정규성 검정"
   ]
  },
  {
   "cell_type": "code",
   "execution_count": 6,
   "id": "67af5d4b",
   "metadata": {},
   "outputs": [
    {
     "data": {
      "text/html": [
       "<div>\n",
       "<style scoped>\n",
       "    .dataframe tbody tr th:only-of-type {\n",
       "        vertical-align: middle;\n",
       "    }\n",
       "\n",
       "    .dataframe tbody tr th {\n",
       "        vertical-align: top;\n",
       "    }\n",
       "\n",
       "    .dataframe thead th {\n",
       "        text-align: right;\n",
       "    }\n",
       "</style>\n",
       "<table border=\"1\" class=\"dataframe\">\n",
       "  <thead>\n",
       "    <tr style=\"text-align: right;\">\n",
       "      <th></th>\n",
       "      <th>Mat_A</th>\n",
       "      <th>Mat_B</th>\n",
       "      <th>Total</th>\n",
       "      <th>Sub</th>\n",
       "    </tr>\n",
       "  </thead>\n",
       "  <tbody>\n",
       "    <tr>\n",
       "      <th>0</th>\n",
       "      <td>73.4</td>\n",
       "      <td>68.7</td>\n",
       "      <td>73.4</td>\n",
       "      <td>1</td>\n",
       "    </tr>\n",
       "    <tr>\n",
       "      <th>1</th>\n",
       "      <td>77.0</td>\n",
       "      <td>71.4</td>\n",
       "      <td>77.0</td>\n",
       "      <td>1</td>\n",
       "    </tr>\n",
       "    <tr>\n",
       "      <th>2</th>\n",
       "      <td>73.7</td>\n",
       "      <td>69.8</td>\n",
       "      <td>73.7</td>\n",
       "      <td>1</td>\n",
       "    </tr>\n",
       "    <tr>\n",
       "      <th>3</th>\n",
       "      <td>73.3</td>\n",
       "      <td>75.3</td>\n",
       "      <td>73.3</td>\n",
       "      <td>1</td>\n",
       "    </tr>\n",
       "    <tr>\n",
       "      <th>4</th>\n",
       "      <td>73.1</td>\n",
       "      <td>71.3</td>\n",
       "      <td>73.1</td>\n",
       "      <td>1</td>\n",
       "    </tr>\n",
       "  </tbody>\n",
       "</table>\n",
       "</div>"
      ],
      "text/plain": [
       "   Mat_A  Mat_B  Total  Sub\n",
       "0   73.4   68.7   73.4    1\n",
       "1   77.0   71.4   77.0    1\n",
       "2   73.7   69.8   73.7    1\n",
       "3   73.3   75.3   73.3    1\n",
       "4   73.1   71.3   73.1    1"
      ]
     },
     "execution_count": 6,
     "metadata": {},
     "output_type": "execute_result"
    }
   ],
   "source": [
    "ds_camshaft = pd.read_csv('/home/piai/바탕화면/실습화일/1 Big Data 분석 기초/2sample_t_test.csv')\n",
    "ds_camshaft.head()"
   ]
  },
  {
   "cell_type": "code",
   "execution_count": 7,
   "id": "21fe83ea",
   "metadata": {},
   "outputs": [
    {
     "data": {
      "text/plain": [
       "ShapiroResult(statistic=0.906264066696167, pvalue=0.2563020884990692)"
      ]
     },
     "execution_count": 7,
     "metadata": {},
     "output_type": "execute_result"
    }
   ],
   "source": [
    "df = ds_camshaft.dropna()\n",
    "data1 = df['Mat_A']\n",
    "stats.shapiro(data1)"
   ]
  },
  {
   "cell_type": "markdown",
   "id": "381c7f84",
   "metadata": {},
   "source": [
    "#### 가설 검정\n",
    "\n",
    "- H0 : Mat_A 자료의 분포는 정규분포를 따른다.\n",
    "- H1 : Mat_A 자료의 분포는 정규분포를 따르지 않는다.\n",
    "\n",
    "p-value 값이 0.25 이므로, 유의 수준 5%에서 귀무가설을 채택할 수 있다. 따라서, 유의 수준 5% 에서 자료의 분포는 정규분포를 따른다고 볼 수 있다."
   ]
  },
  {
   "cell_type": "code",
   "execution_count": 8,
   "id": "bf603723",
   "metadata": {},
   "outputs": [
    {
     "data": {
      "text/plain": [
       "ShapiroResult(statistic=0.9729753732681274, pvalue=0.9169775247573853)"
      ]
     },
     "execution_count": 8,
     "metadata": {},
     "output_type": "execute_result"
    }
   ],
   "source": [
    "df = ds_camshaft.dropna()\n",
    "data1 = df['Mat_B']\n",
    "stats.shapiro(data1)"
   ]
  },
  {
   "cell_type": "markdown",
   "id": "05657d7d",
   "metadata": {},
   "source": [
    "#### 가설 검정\n",
    "\n",
    "- H0 : Mat_B 자료의 분포는 정규분포를 따른다.\n",
    "- H1 : Mat_B 자료의 분포는 정규분포를 따르지 않는다.\n",
    "\n",
    "p-value 값이 0.91 이므로, 유의 수준 5%에서 귀무가설을 채택할 수 있다. 따라서, 유의 수준 5% 에서 자료의 분포는 정규분포를 따른다고 볼 수 있다."
   ]
  },
  {
   "cell_type": "markdown",
   "id": "8b4bc561",
   "metadata": {},
   "source": [
    "### 실습 6 - 모평균 구간추정"
   ]
  },
  {
   "cell_type": "code",
   "execution_count": 9,
   "id": "b7ece965",
   "metadata": {},
   "outputs": [
    {
     "data": {
      "text/html": [
       "<div>\n",
       "<style scoped>\n",
       "    .dataframe tbody tr th:only-of-type {\n",
       "        vertical-align: middle;\n",
       "    }\n",
       "\n",
       "    .dataframe tbody tr th {\n",
       "        vertical-align: top;\n",
       "    }\n",
       "\n",
       "    .dataframe thead th {\n",
       "        text-align: right;\n",
       "    }\n",
       "</style>\n",
       "<table border=\"1\" class=\"dataframe\">\n",
       "  <thead>\n",
       "    <tr style=\"text-align: right;\">\n",
       "      <th></th>\n",
       "      <th>sample</th>\n",
       "    </tr>\n",
       "  </thead>\n",
       "  <tbody>\n",
       "    <tr>\n",
       "      <th>0</th>\n",
       "      <td>18</td>\n",
       "    </tr>\n",
       "    <tr>\n",
       "      <th>1</th>\n",
       "      <td>18</td>\n",
       "    </tr>\n",
       "    <tr>\n",
       "      <th>2</th>\n",
       "      <td>20</td>\n",
       "    </tr>\n",
       "    <tr>\n",
       "      <th>3</th>\n",
       "      <td>21</td>\n",
       "    </tr>\n",
       "    <tr>\n",
       "      <th>4</th>\n",
       "      <td>20</td>\n",
       "    </tr>\n",
       "  </tbody>\n",
       "</table>\n",
       "</div>"
      ],
      "text/plain": [
       "   sample\n",
       "0      18\n",
       "1      18\n",
       "2      20\n",
       "3      21\n",
       "4      20"
      ]
     },
     "execution_count": 9,
     "metadata": {},
     "output_type": "execute_result"
    }
   ],
   "source": [
    "df = pd.DataFrame({\"sample\": [18,18,20,21,20,23,19,18,17,21,\n",
    "                             22,20,20,21,20,19,19,18,17,19]})\n",
    "df.head()"
   ]
  },
  {
   "cell_type": "code",
   "execution_count": 10,
   "id": "46fe54d3",
   "metadata": {},
   "outputs": [
    {
     "name": "stdout",
     "output_type": "stream",
     "text": [
      "신뢰구간 : ([17.83],[21.17])\n"
     ]
    }
   ],
   "source": [
    "# 표준편차 3.8\n",
    "# n = 20\n",
    "\n",
    "lower,upper = stats.norm.interval(0.95, loc = np.mean(df), scale = 3.8/np.sqrt(20))\n",
    "print(\"신뢰구간 : ({0},{1})\".format(lower.round(2), upper.round(2)))"
   ]
  },
  {
   "cell_type": "markdown",
   "id": "e5c1bb7d",
   "metadata": {},
   "source": [
    "### 실습 7 - 모평균 신뢰구간 추정 (모표준편차 모르는 경우)"
   ]
  },
  {
   "cell_type": "code",
   "execution_count": 11,
   "id": "60ce8af1",
   "metadata": {},
   "outputs": [
    {
     "data": {
      "text/html": [
       "<div>\n",
       "<style scoped>\n",
       "    .dataframe tbody tr th:only-of-type {\n",
       "        vertical-align: middle;\n",
       "    }\n",
       "\n",
       "    .dataframe tbody tr th {\n",
       "        vertical-align: top;\n",
       "    }\n",
       "\n",
       "    .dataframe thead th {\n",
       "        text-align: right;\n",
       "    }\n",
       "</style>\n",
       "<table border=\"1\" class=\"dataframe\">\n",
       "  <thead>\n",
       "    <tr style=\"text-align: right;\">\n",
       "      <th></th>\n",
       "      <th>sample</th>\n",
       "    </tr>\n",
       "  </thead>\n",
       "  <tbody>\n",
       "    <tr>\n",
       "      <th>0</th>\n",
       "      <td>73</td>\n",
       "    </tr>\n",
       "    <tr>\n",
       "      <th>1</th>\n",
       "      <td>71</td>\n",
       "    </tr>\n",
       "    <tr>\n",
       "      <th>2</th>\n",
       "      <td>74</td>\n",
       "    </tr>\n",
       "    <tr>\n",
       "      <th>3</th>\n",
       "      <td>69</td>\n",
       "    </tr>\n",
       "    <tr>\n",
       "      <th>4</th>\n",
       "      <td>70</td>\n",
       "    </tr>\n",
       "  </tbody>\n",
       "</table>\n",
       "</div>"
      ],
      "text/plain": [
       "   sample\n",
       "0      73\n",
       "1      71\n",
       "2      74\n",
       "3      69\n",
       "4      70"
      ]
     },
     "execution_count": 11,
     "metadata": {},
     "output_type": "execute_result"
    }
   ],
   "source": [
    "df = pd.DataFrame({\"sample\": [73,71,74,69,70,73,70,68,75,72,\n",
    "                             70,72,73,70,70,72,71,70,75,72]})\n",
    "df.head()"
   ]
  },
  {
   "cell_type": "code",
   "execution_count": 12,
   "id": "34952d35",
   "metadata": {},
   "outputs": [
    {
     "name": "stdout",
     "output_type": "stream",
     "text": [
      "신뢰구간 : ([70.6],[72.4])\n"
     ]
    }
   ],
   "source": [
    "lower,upper = stats.t.interval(0.95, len(df)-1 ,loc = np.mean(df), scale = stats.sem(df))\n",
    "print(\"신뢰구간 : ({0},{1})\".format(lower.round(2), upper.round(2)))"
   ]
  },
  {
   "cell_type": "markdown",
   "id": "5bff295a",
   "metadata": {},
   "source": [
    "### 실습 8 - 1 sample t-test"
   ]
  },
  {
   "cell_type": "code",
   "execution_count": 13,
   "id": "34fb3afe",
   "metadata": {},
   "outputs": [
    {
     "data": {
      "image/png": "[encoded data removed]",
      "text/plain": [
       "<Figure size 640x480 with 1 Axes>"
      ]
     },
     "metadata": {},
     "output_type": "display_data"
    }
   ],
   "source": [
    "df = pd.DataFrame({'sample':[85.0, 79.0, 79.1, 79.9, 81.6, 78.6, 85.4, 83.4, 78.1, 79.2]})\n",
    "df.boxplot(['sample'])\n",
    "plt.show()"
   ]
  },
  {
   "cell_type": "code",
   "execution_count": 14,
   "id": "31951580",
   "metadata": {},
   "outputs": [],
   "source": [
    "t_result = stats.ttest_1samp(df, 78.0)\n",
    "t, p = t_result.statistic.round(3), \\\n",
    "    t_result.pvalue.round(3)"
   ]
  },
  {
   "cell_type": "code",
   "execution_count": 15,
   "id": "fd2c1328",
   "metadata": {},
   "outputs": [
    {
     "name": "stdout",
     "output_type": "stream",
     "text": [
      "1-Sample t-test\n",
      "t 통계량 : [3.379]\n",
      "p-value : [0.008]\n",
      "평균 :  sample    80.93\n",
      "dtype: float64\n"
     ]
    }
   ],
   "source": [
    "print('1-Sample t-test')\n",
    "print('t 통계량 : {}'.format(t))\n",
    "print('p-value : {}'.format(p))\n",
    "print('평균 : ', np.mean(df))"
   ]
  },
  {
   "cell_type": "markdown",
   "id": "49bf7294",
   "metadata": {},
   "source": [
    "#### 실습 8 -가설검정\n",
    "\n",
    "- H0 : 고객서비스센터의 고객만족도 평균은 78점이다. \n",
    "- H1 : 고객서비스센터의 고객만족도 평균은 78점이 아니다.\n",
    "\n",
    "p-value 값이 0.008 이므로, 유의 수준 5%에서 귀무가설을 기각할 수 있다. 따라서, 유의 수준 5% 에서 고객서비스센터의 고객만족도 평균은 78점이 아니다라고 볼 수 있다.\n",
    "\n",
    "개선활동을 완료한 후의 평균값은 80.93으로 개선활동이 만족도를 변화시켰다고 볼 수 있다."
   ]
  },
  {
   "cell_type": "markdown",
   "id": "d0fd6a52",
   "metadata": {},
   "source": [
    "### 실습 9 - 2 sample t-test"
   ]
  },
  {
   "cell_type": "code",
   "execution_count": 16,
   "id": "73bda78e",
   "metadata": {},
   "outputs": [
    {
     "data": {
      "image/png": "[encoded data removed]",
      "text/plain": [
       "<Figure size 640x480 with 1 Axes>"
      ]
     },
     "metadata": {},
     "output_type": "display_data"
    }
   ],
   "source": [
    "df = pd.DataFrame({'A' : [1.883, 1.715, 1.799, 1.768, 1.711, 1.832, 1.427, 1.344],\n",
    "                 'B' : [1.435, 1.572, 1.486, 1.511, 1.457, 1.548, 1.404, 1.883]})\n",
    "df.boxplot(['A','B'])\n",
    "plt.show()"
   ]
  },
  {
   "cell_type": "code",
   "execution_count": 17,
   "id": "4fed30ff",
   "metadata": {},
   "outputs": [
    {
     "name": "stdout",
     "output_type": "stream",
     "text": [
      "statistic=0.8425754904747009, p-value=0.08004532009363174,\n"
     ]
    }
   ],
   "source": [
    "# A 정규성 검정 \n",
    "statistic, p = stats.shapiro(df['A'])\n",
    "print(\"statistic={}, p-value={},\". format(statistic, p))"
   ]
  },
  {
   "cell_type": "markdown",
   "id": "cb22c22c",
   "metadata": {},
   "source": [
    "#### A 정규성 검정\n",
    "\n",
    "- H0 : 자료의 분포는 정규분포를 따른다.\n",
    "- H1 : 자료의 분포는 정규분포를 따르지 않는다.\n",
    "\n",
    "p-value 값이 0.08 이므로, 유의 수준 5%에서 귀무가설을 채택할 수 있다. 따라서, 유의 수준 5% 에서 자료의 분포는 정규분포를 따른다고 볼 수 있다."
   ]
  },
  {
   "cell_type": "code",
   "execution_count": 18,
   "id": "acf10bbf",
   "metadata": {},
   "outputs": [
    {
     "name": "stdout",
     "output_type": "stream",
     "text": [
      "statistic=0.7734811902046204, p-value=0.014793740585446358,\n"
     ]
    }
   ],
   "source": [
    "# B 정규성 검정\n",
    "statistic, p = stats.shapiro(df['B'])\n",
    "print(\"statistic={}, p-value={},\". format(statistic, p))"
   ]
  },
  {
   "cell_type": "markdown",
   "id": "e781fadd",
   "metadata": {},
   "source": [
    "#### B 정규성 검정\n",
    "\n",
    "- H0 : 자료의 분포는 정규분포를 따른다.\n",
    "- H1 : 자료의 분포는 정규분포를 따르지 않는다.\n",
    "\n",
    "p-value 값이 0.01 이므로, 유의 수준 5%에서 귀무가설을 기각한다. 따라서, 유의 수준 5% 에서 자료의 분포는 정규분포를 따르지 않는다고 볼 수 있다."
   ]
  },
  {
   "cell_type": "code",
   "execution_count": 19,
   "id": "0bcb6a8f",
   "metadata": {},
   "outputs": [
    {
     "data": {
      "text/plain": [
       "BartlettResult(statistic=0.42411436523132123, pvalue=0.5148911629500761)"
      ]
     },
     "execution_count": 19,
     "metadata": {},
     "output_type": "execute_result"
    }
   ],
   "source": [
    "# 등분산성 검정\n",
    "stats.bartlett(df['A'], df['B'])"
   ]
  },
  {
   "cell_type": "code",
   "execution_count": 20,
   "id": "dc45faa9",
   "metadata": {},
   "outputs": [],
   "source": [
    "# 2-Sample t-test\n",
    "t_result = stats.ttest_ind(df['A'],df['B'])\n",
    "t, p = t_result.statistic.round(3), t_result.pvalue.round(3)"
   ]
  },
  {
   "cell_type": "code",
   "execution_count": 21,
   "id": "7eca616b",
   "metadata": {},
   "outputs": [
    {
     "name": "stdout",
     "output_type": "stream",
     "text": [
      "2-Sample t-test\n",
      "t:1.7\n",
      "p:0.111\n"
     ]
    }
   ],
   "source": [
    "print(\"2-Sample t-test\")\n",
    "print(\"t:{}\".format(t))\n",
    "print(\"p:{}\".format(p))"
   ]
  },
  {
   "cell_type": "markdown",
   "id": "1143b5e3",
   "metadata": {},
   "source": [
    "#### 실습 9 -가설검정\n",
    "\n",
    "- H0 : 공급자 간에 모평균 차이가 없다.\n",
    "- H1 : 공급자 간에 모평균 차이가 있다.\n",
    "\n",
    "p-value 값이 0.111 이므로, 유의 수준 5%에서 귀무가설을 채택할 수 있다. 따라서, 유의 수준 5% 에서 공급자 간에 모평균 차이가 없다고 볼 수 있다."
   ]
  },
  {
   "cell_type": "markdown",
   "id": "24454d80",
   "metadata": {},
   "source": [
    "### 실습 10 - paired t-test"
   ]
  },
  {
   "cell_type": "code",
   "execution_count": 22,
   "id": "394e00f6",
   "metadata": {},
   "outputs": [],
   "source": [
    "df1 = pd.DataFrame({'before':[720, 589, 780, 648, 720, 589, 780, 648, 780, 648]})\n",
    "df2 = pd.DataFrame({'after':[710, 580, 787, 712, 750, 600, 782, 670, 790, 680]})"
   ]
  },
  {
   "cell_type": "code",
   "execution_count": 23,
   "id": "5a9619b7",
   "metadata": {},
   "outputs": [],
   "source": [
    "# t 검정\n",
    "t_result = stats.ttest_rel(df1,df2)"
   ]
  },
  {
   "cell_type": "code",
   "execution_count": 24,
   "id": "4f2a164b",
   "metadata": {},
   "outputs": [],
   "source": [
    "t, p = t_result.statistic.round(4), t_result.pvalue.round(4)"
   ]
  },
  {
   "cell_type": "code",
   "execution_count": 25,
   "id": "4b61a7d7",
   "metadata": {},
   "outputs": [
    {
     "name": "stdout",
     "output_type": "stream",
     "text": [
      "Paired t-test\n",
      "t:[-2.2661]\n",
      "p-value:[0.0497]\n"
     ]
    }
   ],
   "source": [
    "print('Paired t-test')\n",
    "print('t:{}'.format(t))\n",
    "print('p-value:{}'.format(p))"
   ]
  },
  {
   "cell_type": "markdown",
   "id": "577a0cbb",
   "metadata": {},
   "source": [
    "#### 실습 10 -가설검정\n",
    "\n",
    "- H0 : 회사원들의 성적은 학원가기 전후에 대해 차이가 없다. \n",
    "- H1 : 회사원들의 성적은 학원가기 전후에 대해 차이가 있다.\n",
    "\n",
    "p-value 값이 0.0497 이므로, 유의 수준 5%에서 귀무가설을 기각할 수 있다. 따라서, 유의 수준 5% 에서 회사원들의 성적은 학원가기 전후에 대해 차이가 있다고 볼 수 있다.\n"
   ]
  },
  {
   "cell_type": "markdown",
   "id": "e9ab666d",
   "metadata": {},
   "source": [
    "### 실습 11 - 1 proportion test"
   ]
  },
  {
   "cell_type": "code",
   "execution_count": 26,
   "id": "cdf799e1",
   "metadata": {},
   "outputs": [],
   "source": [
    "count = 40\n",
    "n_obs = 100\n",
    "value = 0.5\n",
    "\n",
    "stat, pval = proportions_ztest(count, n_obs, value)"
   ]
  },
  {
   "cell_type": "code",
   "execution_count": 27,
   "id": "831aa6b5",
   "metadata": {},
   "outputs": [
    {
     "name": "stdout",
     "output_type": "stream",
     "text": [
      "1 proportion test\n",
      "z: -2.041\n",
      "p: 0.041\n"
     ]
    }
   ],
   "source": [
    "print('1 proportion test')\n",
    "print('z: {0:0.3f}'.format(stat))\n",
    "print('p: {0:0.3f}'.format(pval))"
   ]
  },
  {
   "cell_type": "markdown",
   "id": "d9f44e7a",
   "metadata": {},
   "source": [
    "#### 실습 11 -가설검정\n",
    "\n",
    "- H0 : 동전을 던졌을 때 앞면과 뒷면의 나올 확률이 같다. (정상적인 동전)\n",
    "- H1 : 동전을 던졌을 때 앞면과 뒷면의 나올 확률이 다르다. (비정상적인 동전)\n",
    "\n",
    "p-value 값이 0.041 이므로, 유의 수준 5%에서 귀무가설을 기각할 수 있다. 따라서, 유의 수준 5% 에서 동전의 앞면과 뒷면의 나올 확률이 다른 비정상적인 동전이라고 볼 수 있다."
   ]
  },
  {
   "cell_type": "markdown",
   "id": "05a4b41f",
   "metadata": {},
   "source": [
    "### 실습 12 - 2 proportion test"
   ]
  },
  {
   "cell_type": "code",
   "execution_count": 40,
   "id": "37374b11",
   "metadata": {},
   "outputs": [],
   "source": [
    "count = np.array([14,5])\n",
    "nobs = np.array([1200,1200])\n",
    "\n",
    "stat, pval = proportions_ztest(count, nobs)"
   ]
  },
  {
   "cell_type": "code",
   "execution_count": 41,
   "id": "4dacfc41",
   "metadata": {},
   "outputs": [
    {
     "name": "stdout",
     "output_type": "stream",
     "text": [
      "2 proportion test\n",
      "z: 2.073\n",
      "p: 0.038\n"
     ]
    }
   ],
   "source": [
    "print('2 proportion test')\n",
    "print('z: {0:0.3f}'.format(stat))\n",
    "print('p: {0:0.3f}'.format(pval))"
   ]
  },
  {
   "cell_type": "markdown",
   "id": "ee7bda26",
   "metadata": {},
   "source": [
    "#### 실습 12 -가설검정\n",
    "\n",
    "- H0 : 두 공정의 불량률에 차이가 없다.\n",
    "- H1 : 두 공정의 불량률에 차이가 있다.\n",
    "\n",
    "p-value 값이 0.038 이므로, 유의 수준 5%에서 귀무가설을 기각할 수 있다. 따라서, 유의 수준 5% 에서 두 공정의 불량률에 차이가 있다고 볼 수 있다.\n"
   ]
  },
  {
   "cell_type": "markdown",
   "id": "8831a4d2",
   "metadata": {},
   "source": [
    "### 실습 13 - 카이제곱 검정"
   ]
  },
  {
   "cell_type": "code",
   "execution_count": 30,
   "id": "196f953b",
   "metadata": {},
   "outputs": [
    {
     "name": "stdout",
     "output_type": "stream",
     "text": [
      "chi-square test\n",
      "chisq: 98.274\n",
      "p-value: 0.000\n",
      "degree pf freedom: 30\n",
      "expected value: \n",
      "[[11.   8.2  5.2  3.8  1.9  9.8]\n",
      " [ 8.5  6.4  4.1  3.   1.5  7.6]\n",
      " [10.5  7.8  5.   3.7  1.8  9.3]\n",
      " [ 8.3  6.2  3.9  2.9  1.4  7.3]\n",
      " [ 8.   6.   3.8  2.8  1.4  7.1]\n",
      " [ 8.8  6.6  4.2  3.1  1.5  7.8]\n",
      " [ 8.   6.   3.8  2.8  1.4  7.1]]\n"
     ]
    }
   ],
   "source": [
    "df = pd.DataFrame({'A': [18, 1, 8, 7, 10, 9, 10], 'B': [8, 2, 14, 5, 5, 9, 4],\n",
    "                  'C': [4, 1, 3, 4, 9, 5, 4], 'D': [4, 1, 2, 3, 2, 7, 3],\n",
    "                  'E': [3, 1, 3, 1, 1, 1, 1], 'F': [3, 25, 8, 10, 2, 1, 7]})\n",
    "\n",
    "chi, pval, dof, expected = stats.chi2_contingency(df)\n",
    "\n",
    "print('chi-square test')\n",
    "print('chisq: {0:0.3f}'.format(chi))\n",
    "print('p-value: {0:0.3f}'.format(pval))\n",
    "print('degree pf freedom: {}'.format(dof))\n",
    "print('expected value: \\n{}'.format(expected.round(1)))"
   ]
  },
  {
   "cell_type": "markdown",
   "id": "82974a7a",
   "metadata": {},
   "source": [
    "#### 실습 13 -가설검정\n",
    "\n",
    "- H0 : 각 제품에 대해 이미지 차이가 없다.\n",
    "- H1 : 각 제품에 대해 이미지 차이가 있다.\n",
    "\n",
    "p-value 값이 0.000 이므로, 유의 수준 5%에서 귀무가설을 기각할 수 있다. \n",
    "따라서, 유의 수준 5% 에서 각 제품에 대한 이미지 차이가 있다고 판단할 수 있다.\n"
   ]
  },
  {
   "cell_type": "markdown",
   "id": "20641cf1",
   "metadata": {},
   "source": [
    "### 실습 14 - ANOVA"
   ]
  },
  {
   "cell_type": "code",
   "execution_count": 6,
   "id": "29c6994d",
   "metadata": {},
   "outputs": [
    {
     "data": {
      "text/html": [
       "<div>\n",
       "<style scoped>\n",
       "    .dataframe tbody tr th:only-of-type {\n",
       "        vertical-align: middle;\n",
       "    }\n",
       "\n",
       "    .dataframe tbody tr th {\n",
       "        vertical-align: top;\n",
       "    }\n",
       "\n",
       "    .dataframe thead th {\n",
       "        text-align: right;\n",
       "    }\n",
       "</style>\n",
       "<table border=\"1\" class=\"dataframe\">\n",
       "  <thead>\n",
       "    <tr style=\"text-align: right;\">\n",
       "      <th></th>\n",
       "      <th>time</th>\n",
       "      <th>charge</th>\n",
       "      <th>gangjong</th>\n",
       "      <th>type</th>\n",
       "    </tr>\n",
       "  </thead>\n",
       "  <tbody>\n",
       "    <tr>\n",
       "      <th>0</th>\n",
       "      <td>32.2</td>\n",
       "      <td>A</td>\n",
       "      <td>a</td>\n",
       "      <td>a</td>\n",
       "    </tr>\n",
       "    <tr>\n",
       "      <th>1</th>\n",
       "      <td>30.4</td>\n",
       "      <td>B</td>\n",
       "      <td>a</td>\n",
       "      <td>a</td>\n",
       "    </tr>\n",
       "    <tr>\n",
       "      <th>2</th>\n",
       "      <td>33.6</td>\n",
       "      <td>C</td>\n",
       "      <td>a</td>\n",
       "      <td>a</td>\n",
       "    </tr>\n",
       "    <tr>\n",
       "      <th>3</th>\n",
       "      <td>36.4</td>\n",
       "      <td>D</td>\n",
       "      <td>a</td>\n",
       "      <td>a</td>\n",
       "    </tr>\n",
       "    <tr>\n",
       "      <th>4</th>\n",
       "      <td>33.9</td>\n",
       "      <td>E</td>\n",
       "      <td>a</td>\n",
       "      <td>a</td>\n",
       "    </tr>\n",
       "  </tbody>\n",
       "</table>\n",
       "</div>"
      ],
      "text/plain": [
       "   time charge gangjong type\n",
       "0  32.2      A        a    a\n",
       "1  30.4      B        a    a\n",
       "2  33.6      C        a    a\n",
       "3  36.4      D        a    a\n",
       "4  33.9      E        a    a"
      ]
     },
     "execution_count": 6,
     "metadata": {},
     "output_type": "execute_result"
    }
   ],
   "source": [
    "df_ANOVA = pd.read_csv('/home/piai/바탕화면/실습화일/1 Big Data 분석 기초/ANOVA.csv', encoding = 'euc-kr')\n",
    "df_ANOVA.head()"
   ]
  },
  {
   "cell_type": "code",
   "execution_count": 32,
   "id": "0410b4c3",
   "metadata": {},
   "outputs": [
    {
     "data": {
      "text/html": [
       "<div>\n",
       "<style scoped>\n",
       "    .dataframe tbody tr th:only-of-type {\n",
       "        vertical-align: middle;\n",
       "    }\n",
       "\n",
       "    .dataframe tbody tr th {\n",
       "        vertical-align: top;\n",
       "    }\n",
       "\n",
       "    .dataframe thead th {\n",
       "        text-align: right;\n",
       "    }\n",
       "</style>\n",
       "<table border=\"1\" class=\"dataframe\">\n",
       "  <thead>\n",
       "    <tr style=\"text-align: right;\">\n",
       "      <th></th>\n",
       "      <th>gangjong_a</th>\n",
       "      <th>gangjong_b</th>\n",
       "      <th>gangjong_c</th>\n",
       "      <th>gangjong_d</th>\n",
       "    </tr>\n",
       "  </thead>\n",
       "  <tbody>\n",
       "    <tr>\n",
       "      <th>0</th>\n",
       "      <td>32.2</td>\n",
       "      <td>33.1</td>\n",
       "      <td>32.6</td>\n",
       "      <td>26.7</td>\n",
       "    </tr>\n",
       "    <tr>\n",
       "      <th>1</th>\n",
       "      <td>30.4</td>\n",
       "      <td>29.9</td>\n",
       "      <td>32.7</td>\n",
       "      <td>28.5</td>\n",
       "    </tr>\n",
       "    <tr>\n",
       "      <th>2</th>\n",
       "      <td>33.6</td>\n",
       "      <td>31.7</td>\n",
       "      <td>29.3</td>\n",
       "      <td>30.9</td>\n",
       "    </tr>\n",
       "    <tr>\n",
       "      <th>3</th>\n",
       "      <td>36.4</td>\n",
       "      <td>27.5</td>\n",
       "      <td>25.9</td>\n",
       "      <td>26.2</td>\n",
       "    </tr>\n",
       "    <tr>\n",
       "      <th>4</th>\n",
       "      <td>33.9</td>\n",
       "      <td>34.0</td>\n",
       "      <td>31.1</td>\n",
       "      <td>32.3</td>\n",
       "    </tr>\n",
       "    <tr>\n",
       "      <th>5</th>\n",
       "      <td>34.9</td>\n",
       "      <td>30.7</td>\n",
       "      <td>23.8</td>\n",
       "      <td>23.7</td>\n",
       "    </tr>\n",
       "  </tbody>\n",
       "</table>\n",
       "</div>"
      ],
      "text/plain": [
       "   gangjong_a  gangjong_b  gangjong_c  gangjong_d\n",
       "0        32.2        33.1        32.6        26.7\n",
       "1        30.4        29.9        32.7        28.5\n",
       "2        33.6        31.7        29.3        30.9\n",
       "3        36.4        27.5        25.9        26.2\n",
       "4        33.9        34.0        31.1        32.3\n",
       "5        34.9        30.7        23.8        23.7"
      ]
     },
     "execution_count": 32,
     "metadata": {},
     "output_type": "execute_result"
    }
   ],
   "source": [
    "gangjong_a = df_ANOVA[df_ANOVA['gangjong'] == 'a']['time'].reset_index(drop=True)\n",
    "gangjong_b = df_ANOVA[df_ANOVA['gangjong'] == 'b']['time'].reset_index(drop=True)\n",
    "gangjong_c = df_ANOVA[df_ANOVA['gangjong'] == 'c']['time'].reset_index(drop=True)\n",
    "gangjong_d = df_ANOVA[df_ANOVA['gangjong'] == 'd']['time'].reset_index(drop=True)\n",
    "\n",
    "gangjong_df = pd.DataFrame({'gangjong_a': gangjong_a,\n",
    "                            'gangjong_b': gangjong_b,\n",
    "                            'gangjong_c': gangjong_c,\n",
    "                            'gangjong_d': gangjong_d})\n",
    "gangjong_df"
   ]
  },
  {
   "cell_type": "code",
   "execution_count": 33,
   "id": "e0b14a0e",
   "metadata": {},
   "outputs": [
    {
     "data": {
      "image/png": "[encoded data removed]",
      "text/plain": [
       "<Figure size 640x480 with 1 Axes>"
      ]
     },
     "metadata": {},
     "output_type": "display_data"
    }
   ],
   "source": [
    "gangjong_df.boxplot(['gangjong_a','gangjong_b','gangjong_c','gangjong_d'])\n",
    "plt.show()"
   ]
  },
  {
   "cell_type": "code",
   "execution_count": 34,
   "id": "c06f8a3a",
   "metadata": {},
   "outputs": [],
   "source": [
    "# ANOVA 실행\n",
    "f_result = stats.f_oneway(gangjong_df['gangjong_a'],gangjong_df['gangjong_b'],gangjong_df['gangjong_c'],gangjong_df['gangjong_d'])\n",
    "\n",
    "f, p = f_result.statistic.round(3),f_result.pvalue.round(3)"
   ]
  },
  {
   "cell_type": "code",
   "execution_count": 35,
   "id": "50670d5e",
   "metadata": {},
   "outputs": [
    {
     "name": "stdout",
     "output_type": "stream",
     "text": [
      "One-way\n",
      "F 통계량 : 4.172\n",
      "p-value : 0.019\n"
     ]
    }
   ],
   "source": [
    "print(\"One-way\")\n",
    "print(\"F 통계량 : {}\".format(f))\n",
    "print(\"p-value : {}\".format(p))"
   ]
  },
  {
   "cell_type": "markdown",
   "id": "a6d575c4",
   "metadata": {},
   "source": [
    "#### 실습 14 -가설검정1\n",
    "\n",
    "- H0 : 강종별로 2차 정련시간의 차이가 없다\n",
    "- H1 : 강종별로 2차 정련시간의 차이가 있다\n",
    "\n",
    "p-value 값이 0.019 이므로, 유의 수준 5%에서 귀무가설을 기각할 수 있다. 따라서, 유의 수준 5% 에서 강종별로 2차 정련시간의 차이가 있다고 판단할 수 있다"
   ]
  },
  {
   "cell_type": "code",
   "execution_count": 36,
   "id": "80c9b0a6",
   "metadata": {},
   "outputs": [
    {
     "data": {
      "text/html": [
       "<div>\n",
       "<style scoped>\n",
       "    .dataframe tbody tr th:only-of-type {\n",
       "        vertical-align: middle;\n",
       "    }\n",
       "\n",
       "    .dataframe tbody tr th {\n",
       "        vertical-align: top;\n",
       "    }\n",
       "\n",
       "    .dataframe thead th {\n",
       "        text-align: right;\n",
       "    }\n",
       "</style>\n",
       "<table border=\"1\" class=\"dataframe\">\n",
       "  <thead>\n",
       "    <tr style=\"text-align: right;\">\n",
       "      <th></th>\n",
       "      <th>type_a</th>\n",
       "      <th>type_b</th>\n",
       "    </tr>\n",
       "  </thead>\n",
       "  <tbody>\n",
       "    <tr>\n",
       "      <th>0</th>\n",
       "      <td>32.2</td>\n",
       "      <td>32.6</td>\n",
       "    </tr>\n",
       "    <tr>\n",
       "      <th>1</th>\n",
       "      <td>30.4</td>\n",
       "      <td>32.7</td>\n",
       "    </tr>\n",
       "    <tr>\n",
       "      <th>2</th>\n",
       "      <td>33.6</td>\n",
       "      <td>29.3</td>\n",
       "    </tr>\n",
       "    <tr>\n",
       "      <th>3</th>\n",
       "      <td>36.4</td>\n",
       "      <td>25.9</td>\n",
       "    </tr>\n",
       "    <tr>\n",
       "      <th>4</th>\n",
       "      <td>33.9</td>\n",
       "      <td>31.1</td>\n",
       "    </tr>\n",
       "    <tr>\n",
       "      <th>5</th>\n",
       "      <td>34.9</td>\n",
       "      <td>23.8</td>\n",
       "    </tr>\n",
       "    <tr>\n",
       "      <th>6</th>\n",
       "      <td>33.1</td>\n",
       "      <td>26.7</td>\n",
       "    </tr>\n",
       "    <tr>\n",
       "      <th>7</th>\n",
       "      <td>29.9</td>\n",
       "      <td>28.5</td>\n",
       "    </tr>\n",
       "    <tr>\n",
       "      <th>8</th>\n",
       "      <td>31.7</td>\n",
       "      <td>30.9</td>\n",
       "    </tr>\n",
       "    <tr>\n",
       "      <th>9</th>\n",
       "      <td>27.5</td>\n",
       "      <td>26.2</td>\n",
       "    </tr>\n",
       "    <tr>\n",
       "      <th>10</th>\n",
       "      <td>34.0</td>\n",
       "      <td>32.3</td>\n",
       "    </tr>\n",
       "    <tr>\n",
       "      <th>11</th>\n",
       "      <td>30.7</td>\n",
       "      <td>23.7</td>\n",
       "    </tr>\n",
       "  </tbody>\n",
       "</table>\n",
       "</div>"
      ],
      "text/plain": [
       "    type_a  type_b\n",
       "0     32.2    32.6\n",
       "1     30.4    32.7\n",
       "2     33.6    29.3\n",
       "3     36.4    25.9\n",
       "4     33.9    31.1\n",
       "5     34.9    23.8\n",
       "6     33.1    26.7\n",
       "7     29.9    28.5\n",
       "8     31.7    30.9\n",
       "9     27.5    26.2\n",
       "10    34.0    32.3\n",
       "11    30.7    23.7"
      ]
     },
     "execution_count": 36,
     "metadata": {},
     "output_type": "execute_result"
    }
   ],
   "source": [
    "type_a = df_ANOVA[df_ANOVA['type'] == 'a']['time'].reset_index(drop=True)\n",
    "type_b = df_ANOVA[df_ANOVA['type'] == 'b']['time'].reset_index(drop=True)\n",
    "\n",
    "type_df = pd.DataFrame({'type_a': type_a,\n",
    "                            'type_b': type_b})\n",
    "type_df"
   ]
  },
  {
   "cell_type": "code",
   "execution_count": 37,
   "id": "d01f12aa",
   "metadata": {},
   "outputs": [],
   "source": [
    "# ANOVA 실행\n",
    "f_result = stats.f_oneway(type_df['type_a'],type_df['type_b'])\n",
    "\n",
    "f, p = f_result.statistic.round(3),f_result.pvalue.round(3)"
   ]
  },
  {
   "cell_type": "code",
   "execution_count": 38,
   "id": "2d530d85",
   "metadata": {},
   "outputs": [
    {
     "name": "stdout",
     "output_type": "stream",
     "text": [
      "One-way\n",
      "F 통계량 : 9.654\n",
      "p-value : 0.005\n"
     ]
    }
   ],
   "source": [
    "print(\"One-way\")\n",
    "print(\"F 통계량 : {}\".format(f))\n",
    "print(\"p-value : {}\".format(p))"
   ]
  },
  {
   "cell_type": "markdown",
   "id": "96f50a91",
   "metadata": {},
   "source": [
    "#### 실습 14 -가설검정2\n",
    "\n",
    "- H0 : type별로 2차정련 시간에 차이가 없다.\n",
    "- H1 : type별로 2차정련 시간에 차이가 있다.\n",
    "\n",
    "p-value 값이 0.005 이므로, 유의 수준 5%에서 귀무가설을 기각할 수 있다. \n",
    "따라서, 유의 수준 5% 에서 type별로 2차정련 시간에 차이가 있다고 판단할 수 있다."
   ]
  },
  {
   "cell_type": "markdown",
   "id": "26a4bbfa",
   "metadata": {},
   "source": [
    "### 실습 15 - 상관분석"
   ]
  },
  {
   "cell_type": "code",
   "execution_count": 39,
   "id": "e5725559",
   "metadata": {},
   "outputs": [
    {
     "name": "stdout",
     "output_type": "stream",
     "text": [
      "Correlation Analysis\n",
      "corr:-0.723\n",
      "p-value:0.000\n"
     ]
    }
   ],
   "source": [
    "df1 = [37.6, 38.6, 37.2, 36.4, 38.6, 39, 37.2, 36.1, 35.9, 37.1, 36.9, 37.5, 36.3, 38.1, 39, 36.9, 36.8, 37.6, 33, 33.5]\n",
    "df2 = [14, 15, 14, 16, 17, 14, 17, 16, 15, 16, 14, 16, 18, 13, 15, 17, 14, 16, 20, 21]\n",
    "\n",
    "corr, pval = stats.pearsonr(df1, df2)\n",
    "\n",
    "print('Correlation Analysis')\n",
    "print('corr:{0:0.3f}'.format(corr))\n",
    "print('p-value:{0:0.3f}'.format(pval))"
   ]
  },
  {
   "cell_type": "markdown",
   "id": "4e4d046f",
   "metadata": {},
   "source": [
    "#### 실습 15 -가설검정\n",
    "\n",
    "- H0 : 초코칩의 강도와 재료 반죽온도 사이의 상관계수는 0 이다.\n",
    "- H1 : 초코칩의 강도와 재료 반죽온도 사이의 상관계수는 0 이 아니다.\n",
    "\n",
    "p-value 값이 0.000 이므로, 유의 수준 5%에서 귀무가설을 기각할 수 있다. 따라서, 유의 수준 5% 에서 초코칩의 강도와 재료 반죽온도 사이의 상관계수는 0 이 아니라고 판단할 수 있다.\n",
    "\n",
    "상관계수는 -0.723으로 초코칩의 강도와 재료 반죽온도 사이는 역의 상관관계를 가지고 있다고 볼 수 있다. 초코칩의 강도가 높아질수록 재료 반죽온도는 낮아지고, 초코칩의 강도가 낮아질수록 재료 반죽온도는 높아진다. \n"
   ]
  },
  {
   "cell_type": "code",
   "execution_count": null,
   "id": "d118b7a1",
   "metadata": {},
   "outputs": [],
   "source": []
  }
 ],
 "metadata": {
  "kernelspec": {
   "display_name": "Python 3 (ipykernel)",
   "language": "python",
   "name": "python3"
  },
  "language_info": {
   "codemirror_mode": {
    "name": "ipython",
    "version": 3
   },
   "file_extension": ".py",
   "mimetype": "text/x-python",
   "name": "python",
   "nbconvert_exporter": "python",
   "pygments_lexer": "ipython3",
   "version": "3.10.9"
  }
 },
 "nbformat": 4,
 "nbformat_minor": 5
}
